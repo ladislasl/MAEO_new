{
 "cells": [
  {
   "cell_type": "code",
   "execution_count": 1,
   "source": [
    "import requests\r\n",
    "from bs4 import BeautifulSoup\r\n",
    "import urllib.request\r\n",
    "import os\r\n",
    "from os import path\r\n",
    "\r\n",
    "headers = \"\" #TO COMPLETE\r\n",
    "url = \"http://www.reddit.com/r/shark\"\r\n",
    "TYPE = \"bull\"\r\n",
    "filepath = \"C:/Yann/Mines/Césure/Stages/ARBRE/MAEO/Datasets/scrap/\" + TYPE + \"/\"\r\n",
    "if not path.isdir(filepath):\r\n",
    "    os.makedirs(filepath)\r\n",
    "\r\n",
    "source = requests.get(url, headers = headers).text\r\n",
    "soup = BeautifulSoup(source, \"lxml\") #pip install lxml\r\n",
    "\r\n",
    "Images = []\r\n",
    "#images = soup.find_all(\"img\", attrs = {\"alt\": \"Post image\"}) #profile pictures ? 4:00\r\n",
    "img_links = soup.select('img[src^=\"https://images.freeimages.com/images\"]')\r\n",
    "for i in range(len(img_links)):\r\n",
    "    Images.append(img_links[i]['src'])\r\n",
    "\r\n",
    "for i in range(len(Images)):\r\n",
    "    name = filepath + str(i) + \".jpg\"\r\n",
    "    urllib.request.urlretrieve(Images[i], name)"
   ],
   "outputs": [],
   "metadata": {}
  },
  {
   "cell_type": "code",
   "execution_count": 2,
   "source": [
    "dict = {1 : {'family' : 'Myliobatidae_1', 'species' : ['Aetobatus narinari','Aetobatus ocellatus']},\r\n",
    "        20 : {'family' : 'Myliobatidae_2', 'species' : ['Myliobatis aquila']},\r\n",
    "        2 : {'family' : 'Dasyatidae', 'species' : ['Dasyatis thetidis','Taeniura melanospilos','Taeniura meyeni','Pteroplatytrygon violacea',\r\n",
    "                        'Pateobatis fai']},\r\n",
    "        3 : {'family' : 'Alopiidae', 'species' : ['Alopias pelagicus','Alopias superciliosus','Alopias vulpinus']},\r\n",
    "        4 : {'family' : 'Carcharhinidae_1', 'species' : ['Carcharhinus albimarginatus','Carcharhinus amblyrhynchos','Carcharhinus brevipinna',\r\n",
    "                        'Carcharhinus falciformis', 'Carcharhinus leucas','Carcharhinus limbatus','Carcharhinus melanopterus',\r\n",
    "                        'Carcharhinus plumbeus','Galeocerdo cuvier','Negaprion acutidens','Triaenodon obesus']}, #Bull, Tiger, ...\r\n",
    "        5 : {'family' : 'Carcharhinidae_2', 'species' : ['Carcharhinus longimanus']},\r\n",
    "        6 : {'family' : 'Carcharhinidae_3', 'species' : ['Loxodon macrorhinus','Prionace glauca']},\r\n",
    "        7 : {'family' : 'Ginglymostomatidae', 'species' : ['Pseudoginglymostoma brevicaudatum','Nebrius ferrugineus']}, #Nurse\r\n",
    "        8 : {'family' : 'White', 'species' : ['Carcharodon carcharias']}, #White\r\n",
    "        9 : {'family' : 'Mako', 'species' : ['Isurus oxyrinchus','Isurus paucus']}, #Mako\r\n",
    "        10 : {'family' : 'Manta', 'species' : ['Manta alfredi','Manta birostris']},\r\n",
    "        11 : {'family' : 'Mobula', 'species' : ['Mobula eregoodootenkee','Mobula japanica','Mobula tarapacana','Mobula thurstoni']},\r\n",
    "        12 : {'family' : 'Whale', 'species' : ['Rhincodon typus']},\r\n",
    "        13 : {'family' : 'Guitarfish', 'species' : ['Rhynchobatus djiddensis']},\r\n",
    "        14 : {'family' : 'Striped', 'species' : ['Poroderma africanum']},\r\n",
    "        15 : {'family' : 'Hammer', 'species' : ['Sphyrna lewini','Sphyrna mokarran','Sphyrna zygaena']},\r\n",
    "        16 : {'family' : 'Zebra', 'species' : ['Stegostoma fasciatum']},\r\n",
    "        17 : {'family' : 'Torpedinidae', 'species' : ['Torpedo fuscomaculata']},\r\n",
    "        18 : {'family' : 'Torpedinidae', 'species' : ['Torpedo fuscomaculata']},\r\n",
    "        19 : {'family' : 'Starspotted', 'species' : ['Mustelus manazo']}}"
   ],
   "outputs": [],
   "metadata": {}
  },
  {
   "cell_type": "code",
   "execution_count": 8,
   "source": [
    "for key in dict:\r\n",
    "    print(dict[key]['family'])\r\n"
   ],
   "outputs": [
    {
     "output_type": "stream",
     "name": "stdout",
     "text": [
      "Myliobatidae_1\n",
      "Myliobatidae_2\n",
      "Dasyatidae\n",
      "Alopiidae\n",
      "Carcharhinidae_1\n",
      "Carcharhinidae_2\n",
      "Carcharhinidae_3\n",
      "Ginglymostomatidae\n",
      "White\n",
      "Mako\n",
      "Manta\n",
      "Mobula\n",
      "Whale\n",
      "Guitarfish\n",
      "Striped\n",
      "Hammer\n",
      "Zebra\n",
      "Torpedinidae\n",
      "Torpedinidae\n",
      "Starspotted\n"
     ]
    }
   ],
   "metadata": {}
  },
  {
   "cell_type": "code",
   "execution_count": null,
   "source": [],
   "outputs": [],
   "metadata": {}
  }
 ],
 "metadata": {
  "orig_nbformat": 4,
  "language_info": {
   "name": "python",
   "version": "3.8.8",
   "mimetype": "text/x-python",
   "codemirror_mode": {
    "name": "ipython",
    "version": 3
   },
   "pygments_lexer": "ipython3",
   "nbconvert_exporter": "python",
   "file_extension": ".py"
  },
  "kernelspec": {
   "name": "python3",
   "display_name": "Python 3.8.8 64-bit ('base': conda)"
  },
  "interpreter": {
   "hash": "4dab8c03be3c5c6a44520b347b989a71815229037bdf420dec67f22a3b205987"
  }
 },
 "nbformat": 4,
 "nbformat_minor": 2
}